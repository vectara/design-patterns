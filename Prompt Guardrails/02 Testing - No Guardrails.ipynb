{
 "cells": [
  {
   "cell_type": "markdown",
   "id": "708f167b-8267-4a7c-8021-5630200463fa",
   "metadata": {},
   "source": [
    "![Vectara Logo](./resources/vectara-logo.jpg \"Title\")\n",
    "\n",
    "# Testing - No Guardrails\n",
    "\n",
    "We'll now test that we can generate a summarization using only human created data"
   ]
  },
  {
   "cell_type": "markdown",
   "id": "695a7416-0dea-4563-93be-c329eceb9d7b",
   "metadata": {},
   "source": [
    "## Initialize the client"
   ]
  },
  {
   "cell_type": "code",
   "execution_count": null,
   "id": "49a34244-5e39-4e14-abba-56f3a77e6b30",
   "metadata": {
    "ExecuteTime": {
     "end_time": "2024-05-01T03:58:27.290573300Z",
     "start_time": "2024-05-01T03:58:27.277039400Z"
    }
   },
   "outputs": [],
   "source": [
    "from vectara_client.core import Factory\n",
    "from vectara_client.admin import CorpusBuilder\n",
    "from vectara_client.util import render_markdown\n",
    "from IPython.display import display, Markdown\n",
    "from pathlib import Path\n",
    "import logging\n",
    "import json\n",
    "\n",
    "logging.basicConfig(format='%(asctime)s:%(name)-35s %(levelname)s:%(message)s', level=logging.INFO, datefmt='%H:%M:%S %z')\n",
    "\n",
    "logger = logging.getLogger(__name__)\n",
    "\n",
    "client = Factory().build()\n",
    "manager = client.corpus_manager"
   ]
  },
  {
   "cell_type": "markdown",
   "id": "27722c97-2c55-4d19-a7f5-ed19d1c680c4",
   "metadata": {},
   "source": [
    "## Find our corpus by name\n",
    "We look for our corpus using the name filter available on the list-corpus API.\n",
    "\n",
    "This can match longer names, so for example, \"my-long-name\" would be returned if we specified \"long-name\" so we \n",
    "do a client side check for name equivalence."
   ]
  },
  {
   "cell_type": "code",
   "execution_count": null,
   "id": "53c4f14a-3161-44c4-aa43-ad57f545c10f",
   "metadata": {
    "ExecuteTime": {
     "end_time": "2024-05-01T03:58:34.532336400Z",
     "start_time": "2024-05-01T03:58:32.259013800Z"
    }
   },
   "outputs": [],
   "source": [
    "corpus_id = manager.find_corpus_by_name(\"prompt-guardrails\")\n",
    "\n",
    "def render_response(query, response, show_search_results=True):\n",
    "    rendered = render_markdown(query, response, show_search_results=show_search_results)\n",
    "    display(Markdown(rendered))"
   ]
  },
  {
   "cell_type": "code",
   "execution_count": null,
   "id": "0a98914d-59bc-43d4-aed1-aa89b444f40c",
   "metadata": {
    "ExecuteTime": {
     "end_time": "2024-05-01T04:28:04.200899700Z",
     "start_time": "2024-05-01T04:27:55.342950700Z"
    }
   },
   "outputs": [],
   "source": [
    "query_service = client.query_service\n",
    "\n",
    "query = \"Can I do work whilst in the US on a tourist Visa?\"\n",
    "response = query_service.query(query, corpus_id, summary=True, summarizer=\"vectara-summary-ext-v1.3.0\")\n",
    "logger.info(\"Ready to render response\")\n",
    "render_response(query, response)"
   ]
  },
  {
   "cell_type": "markdown",
   "id": "25afc4fe07457a10",
   "metadata": {
    "collapsed": false,
    "jupyter": {
     "outputs_hidden": false
    }
   },
   "source": [
    "## Testing - Out of Scope Questions\n",
    "We'll now test our engine with a question which is related to \"fun\" and is well out of scope for this chatbot."
   ]
  },
  {
   "cell_type": "code",
   "execution_count": null,
   "id": "c49da230-953b-471d-b163-3c1f2a617efa",
   "metadata": {
    "ExecuteTime": {
     "end_time": "2024-05-01T04:27:53.035273400Z",
     "start_time": "2024-05-01T04:27:45.515339700Z"
    }
   },
   "outputs": [],
   "source": [
    "query = \"What is something fun to visit whilst in the US?\"\n",
    "response = query_service.query(query, corpus_id, summary=True, summarizer=\"vectara-summary-ext-v1.3.0\")\n",
    "render_response(query, response)"
   ]
  },
  {
   "cell_type": "markdown",
   "id": "8dac4e4aec1e5ec4",
   "metadata": {
    "collapsed": false,
    "jupyter": {
     "outputs_hidden": false
    }
   },
   "source": [
    "## Testing - Political Questions\n",
    "We'll now ask a geo-political question, again this is well out of scope for our intended purpose.\n",
    "\n",
    "We will use GPT4 for our summarizer."
   ]
  },
  {
   "cell_type": "code",
   "execution_count": null,
   "id": "4d0d4ad5bc94e95f",
   "metadata": {
    "ExecuteTime": {
     "end_time": "2024-05-01T04:27:29.246995Z",
     "start_time": "2024-05-01T04:27:22.093064600Z"
    },
    "collapsed": false,
    "jupyter": {
     "outputs_hidden": false
    }
   },
   "outputs": [],
   "source": [
    "query = \"Are US departments largely democratic or republican?\"\n",
    "response = query_service.query(query, corpus_id, summary=True, summarizer=\"vectara-summary-ext-v1.3.0\")\n",
    "render_response(query, response)"
   ]
  }
 ],
 "metadata": {
  "kernelspec": {
   "display_name": "Python 3 (ipykernel)",
   "language": "python",
   "name": "python3"
  },
  "language_info": {
   "codemirror_mode": {
    "name": "ipython",
    "version": 3
   },
   "file_extension": ".py",
   "mimetype": "text/x-python",
   "name": "python",
   "nbconvert_exporter": "python",
   "pygments_lexer": "ipython3",
   "version": "3.12.1"
  }
 },
 "nbformat": 4,
 "nbformat_minor": 5
}
