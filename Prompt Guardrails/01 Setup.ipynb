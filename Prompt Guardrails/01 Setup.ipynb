{
 "cells": [
  {
   "cell_type": "markdown",
   "id": "6443b61e129ab75d",
   "metadata": {
    "collapsed": false,
    "jupyter": {
     "outputs_hidden": false
    }
   },
   "source": [
    "\n",
    "![Vectara Logo](./resources/vectara-logo.jpg \"Title\")\n",
    "\n",
    "# Setup\n",
    "We'll now run through the setup for this example, creating a corpus. This example\n",
    "uses the unoffical Vectara Python SDK, vectara-skunk-client which requires\n",
    "setup of \".vec_auth.yaml\" to be created and stored in your home directory.\n",
    "\n",
    "## Pre-requisites\n",
    "Before running this example, you will need:\n",
    "\n",
    "1. a Vectara Account which is either enabled for \"Scale\" or \"Pro\"\n",
    "and has access to custom prompts.\n",
    "2. An OAuth credential for the account\n",
    "3. Setup of \".vec_auth.yaml\" for the SDK to use, detailed instructions below.\n",
    "\n",
    "## Setup Unoffical SDK\n",
    "This example uses the unoffical Vectara Python SDK, `vectara-skunk-client` which requires\n",
    "setup of \".vec_auth.yaml\" to be created and stored in your home directory.\n",
    "\n",
    "More information on this setup can be found here: https://github.com/davidglevy/vectara-skunk-client\n",
    "\n",
    "## Get the SDK\n",
    "The first step is to install the SDK with the standard pip install commands."
   ]
  },
  {
   "cell_type": "code",
   "execution_count": null,
   "id": "37a3e2fe2150bee7",
   "metadata": {
    "ExecuteTime": {
     "end_time": "2024-05-01T02:48:47.475950800Z",
     "start_time": "2024-05-01T02:48:42.925634400Z"
    },
    "collapsed": false,
    "jupyter": {
     "outputs_hidden": false
    }
   },
   "outputs": [],
   "source": [
    "%pip install -q vectara-skunk-client==0.4.33"
   ]
  },
  {
   "cell_type": "markdown",
   "id": "a71fb5ceaa310430",
   "metadata": {
    "collapsed": false,
    "jupyter": {
     "outputs_hidden": false
    }
   },
   "source": [
    "## Initialize the Client\n",
    "We'll now initialize the client so we can start making calls to our Vectara account."
   ]
  },
  {
   "cell_type": "code",
   "execution_count": null,
   "id": "f40ceec897ae81c6",
   "metadata": {
    "ExecuteTime": {
     "end_time": "2024-05-01T02:57:53.328607200Z",
     "start_time": "2024-05-01T02:57:53.319510900Z"
    },
    "collapsed": false,
    "jupyter": {
     "outputs_hidden": false
    }
   },
   "outputs": [],
   "source": [
    "from vectara_client.core import Factory\n",
    "from vectara_client.admin import CorpusBuilder\n",
    "\n",
    "import logging\n",
    "from pathlib import Path\n",
    "\n",
    "logging.basicConfig(format='%(asctime)s:%(name)-35s %(levelname)s:%(message)s', level=logging.INFO, datefmt='%H:%M:%S %z')\n",
    "\n",
    "logger = logging.getLogger(__name__)\n",
    "\n",
    "client = Factory().build()\n",
    "manager = client.corpus_manager"
   ]
  },
  {
   "cell_type": "markdown",
   "id": "fbca4d39683ea66b",
   "metadata": {
    "collapsed": false,
    "jupyter": {
     "outputs_hidden": false
    }
   },
   "source": [
    "## Delete Existing (if exists)\n",
    "\n",
    "The following code shows how we can delete an existing corpus if it exists. Please be aware that this will delete any corpus named \"verified-corpus\"\n",
    "and this code will likely be used in a test harness tear down."
   ]
  },
  {
   "cell_type": "markdown",
   "id": "b5f4e680b825698f",
   "metadata": {
    "collapsed": false,
    "jupyter": {
     "outputs_hidden": false
    }
   },
   "source": [
    "## Create Test Corpus\n",
    "We'll now create a test corpus loaded with some information from the US Tourist Visa information page. "
   ]
  },
  {
   "cell_type": "code",
   "execution_count": null,
   "id": "1ba68145f5f0e732",
   "metadata": {
    "ExecuteTime": {
     "end_time": "2024-05-01T02:58:02.112140700Z",
     "start_time": "2024-05-01T02:57:59.925459300Z"
    },
    "collapsed": false,
    "jupyter": {
     "outputs_hidden": false
    }
   },
   "outputs": [],
   "source": [
    "corpus = (CorpusBuilder(\"prompt-guardrails\").description(\"Corpus to illustrate guard rails\").build())\n",
    "corpus_id = manager.create_corpus(corpus, delete_existing=True)"
   ]
  },
  {
   "cell_type": "markdown",
   "id": "df03f52fd08c7e02",
   "metadata": {
    "collapsed": false,
    "jupyter": {
     "outputs_hidden": false
    }
   },
   "source": [
    "## Upload our Document\n",
    "We'll now upload our test documents to the corpus\n",
    "\n",
    "We'll also add some research content to the corpus - we do this to provide responses in the retrieval component\n",
    "of RAG which act to provide the \"Augmented Generation\" data which is outside the scope of our goal. This helps\n",
    "illustrate the problem and need to add guardrails for use cases which accept data from sources which may not be\n",
    "curated.\n",
    "\n",
    "### Political Content\n",
    "To help illustrate the requirement for guardrails, we've included the text from this article:\n",
    "https://www.govexec.com/oversight/2015/08/there-are-more-republicans-federal-government-you-might-think/119138/\n",
    "\n",
    "### Tourist Review Content\n",
    "We've also included a response from a GenAI summarizer for \"fun things\" to do in Washington DC.\n"
   ]
  },
  {
   "cell_type": "code",
   "execution_count": null,
   "id": "3449ecbb9cfc174a",
   "metadata": {
    "ExecuteTime": {
     "end_time": "2024-05-01T04:25:31.409535700Z",
     "start_time": "2024-05-01T04:25:09.391488100Z"
    },
    "collapsed": false,
    "jupyter": {
     "outputs_hidden": false
    }
   },
   "outputs": [],
   "source": [
    "indexer_service = client.indexer_service\n",
    "document_service = client.document_service\n",
    "\n",
    "def load_documents(folder: str):\n",
    "    path = Path(folder)\n",
    "    for file_path in path.glob(\"*.docx\"):\n",
    "        logger.info(f\"Found [{file_path}]\")\n",
    "    \n",
    "        # Delete the document if it exists.\n",
    "        doc_list = document_service.list_documents(corpus_id, metadata_filter=f\"doc.id = '{file_path.name}'\")\n",
    "        if len(doc_list) > 0:\n",
    "            logger.info(f\"Found existing document with id [{file_path.name}]\")\n",
    "            indexer_service.delete(corpus_id, file_path.name)\n",
    "        \n",
    "        indexer_service.upload(corpus_id, file_path)\n",
    "        \n",
    "load_documents(\"resources\")"
   ]
  }
 ],
 "metadata": {
  "kernelspec": {
   "display_name": "Python 3 (ipykernel)",
   "language": "python",
   "name": "python3"
  },
  "language_info": {
   "codemirror_mode": {
    "name": "ipython",
    "version": 3
   },
   "file_extension": ".py",
   "mimetype": "text/x-python",
   "name": "python",
   "nbconvert_exporter": "python",
   "pygments_lexer": "ipython3",
   "version": "3.12.1"
  }
 },
 "nbformat": 4,
 "nbformat_minor": 5
}
