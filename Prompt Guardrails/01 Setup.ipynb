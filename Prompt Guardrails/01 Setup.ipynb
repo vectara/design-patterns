{
 "cells": [
  {
   "cell_type": "markdown",
   "source": [
    "# Setup\n",
    "We'll now run through the setup for this example, creating a corpus. This example\n",
    "uses the unoffical Vectara Python SDK, vectara-skunk-client which requires\n",
    "setup of \".vec_auth.yaml\" to be created and stored in your home directory.\n",
    "\n",
    "## Pre-requisites\n",
    "Before running this example, you will need:\n",
    "\n",
    "1. a Vectara Account which is either enabled for \"Scale\" or \"Pro\"\n",
    "and has access to custom prompts.\n",
    "2. An OAuth credential for the account\n",
    "3. Setup of \".vec_auth.yaml\" for the SDK to use, detailed instructions below.\n",
    "\n",
    "## Setup Unoffical SDK\n",
    "This example uses the unoffical Vectara Python SDK, `vectara-skunk-client` which requires\n",
    "setup of \".vec_auth.yaml\" to be created and stored in your home directory.\n",
    "\n",
    "More information on this setup can be found here: https://github.com/davidglevy/vectara-skunk-client\n",
    "\n",
    "## Get the SDK\n",
    "The first step is to install the SDK with the standard pip install commands."
   ],
   "metadata": {
    "collapsed": false
   },
   "id": "6443b61e129ab75d"
  },
  {
   "cell_type": "code",
   "execution_count": 1,
   "outputs": [
    {
     "name": "stdout",
     "output_type": "stream",
     "text": [
      "Note: you may need to restart the kernel to use updated packages.\n"
     ]
    },
    {
     "name": "stderr",
     "output_type": "stream",
     "text": [
      "\n",
      "[notice] A new release of pip is available: 23.2.1 -> 24.0\n",
      "[notice] To update, run: python.exe -m pip install --upgrade pip\n"
     ]
    }
   ],
   "source": [
    "%pip install -q vectara-skunk-client"
   ],
   "metadata": {
    "collapsed": false,
    "ExecuteTime": {
     "end_time": "2024-05-01T02:48:47.475950800Z",
     "start_time": "2024-05-01T02:48:42.925634400Z"
    }
   },
   "id": "37a3e2fe2150bee7"
  },
  {
   "cell_type": "markdown",
   "source": [
    "## Initialize the Client\n",
    "We'll now initialize the client so we can start making calls to our Vectara account."
   ],
   "metadata": {
    "collapsed": false
   },
   "id": "a71fb5ceaa310430"
  },
  {
   "cell_type": "code",
   "execution_count": 13,
   "outputs": [],
   "source": [
    "from vectara_client.core import Factory\n",
    "from vectara_client.admin import CorpusBuilder\n",
    "import logging\n",
    "from pathlib import Path\n",
    "\n",
    "logging.basicConfig(format='%(asctime)s:%(name)-35s %(levelname)s:%(message)s', level=logging.INFO, datefmt='%H:%M:%S %z')\n",
    "\n",
    "logger = logging.getLogger(__name__)\n",
    "\n",
    "client = Factory().build()\n",
    "admin_service = client.admin_service"
   ],
   "metadata": {
    "collapsed": false,
    "ExecuteTime": {
     "end_time": "2024-05-01T02:57:53.328607200Z",
     "start_time": "2024-05-01T02:57:53.319510900Z"
    }
   },
   "id": "f40ceec897ae81c6"
  },
  {
   "cell_type": "markdown",
   "source": [
    "## Delete Existing (if exists)\n",
    "\n",
    "The following code shows how we can delete an existing corpus if it exists. Please be aware that this will delete any corpus named \"verified-corpus\"\n",
    "and this code will likely be used in a test harness tear down."
   ],
   "metadata": {
    "collapsed": false
   },
   "id": "fbca4d39683ea66b"
  },
  {
   "cell_type": "code",
   "execution_count": 14,
   "outputs": [],
   "source": [
    "name = \"prompt-guardrails\"\n",
    "logger.info(f\"Looking for existing corpus named [{name}]\")\n",
    "\n",
    "# The filter below will match any corpus with \"verified-corpus\" anywhere in the name, so we need a \n",
    "# client side check to validate equivalence.\n",
    "existing_corpora = admin_service.list_corpora(name)\n",
    "logger.info(f\"We found [{len(existing_corpora)}] potential matches\")\n",
    "for existing_corpus in existing_corpora:\n",
    "    if existing_corpus.name == name:\n",
    "        # The following code will delete the corpus\n",
    "        logger.info(f\"Deleting corpus with id [{existing_corpus.id}]\")\n",
    "        admin_service.delete_corpus(existing_corpus.id)\n",
    "    else:\n",
    "        logger.info(f\"Ignoring corpus with id [{existing_corpus.id}] as it doesn't match our target name exactly\")"
   ],
   "metadata": {
    "collapsed": false,
    "ExecuteTime": {
     "end_time": "2024-05-01T02:57:59.923453200Z",
     "start_time": "2024-05-01T02:57:55.694429100Z"
    }
   },
   "id": "278e2c2b7f45e3b8"
  },
  {
   "cell_type": "markdown",
   "source": [
    "## Create Test Corpus\n",
    "We'll now create a test corpus loaded with some information from the US Tourist Visa information page. "
   ],
   "metadata": {
    "collapsed": false
   },
   "id": "b5f4e680b825698f"
  },
  {
   "cell_type": "code",
   "execution_count": 15,
   "outputs": [],
   "source": [
    "logger.info(\"Creating our corpus with filter attributes\")\n",
    "corpus = (CorpusBuilder(name)\n",
    "          .description(\"Corpus to illustrate guard rails\")\n",
    "          .build()\n",
    "         )\n",
    "corpus_id = admin_service.create_corpus_d(corpus).corpusId\n",
    "logger.info(f\"New corpus created with id [{corpus_id}]\")"
   ],
   "metadata": {
    "collapsed": false,
    "ExecuteTime": {
     "end_time": "2024-05-01T02:58:02.112140700Z",
     "start_time": "2024-05-01T02:57:59.925459300Z"
    }
   },
   "id": "1ba68145f5f0e732"
  },
  {
   "cell_type": "markdown",
   "source": [
    "## Upload our Document\n",
    "We'll now upload our test documents to the corpus\n",
    "\n",
    "We'll also add some research content to the corpus - we do this to provide responses in the retrieval component\n",
    "of RAG which act to provide the \"Augmented Generation\" data which is outside the scope of our goal. This helps\n",
    "illustrate the problem and need to add guardrails for use cases which accept data from sources which may not be\n",
    "curated.\n",
    "\n",
    "### Political Content\n",
    "To help illustrate the requirement for guardrails, we've included the text from this article:\n",
    "https://www.govexec.com/oversight/2015/08/there-are-more-republicans-federal-government-you-might-think/119138/\n",
    "\n",
    "### Tourist Review Content\n",
    "We've also included a response from a GenAI summarizer for \"fun things\" to do in Washington DC.\n"
   ],
   "metadata": {
    "collapsed": false
   },
   "id": "df03f52fd08c7e02"
  },
  {
   "cell_type": "code",
   "execution_count": 26,
   "outputs": [
    {
     "name": "stderr",
     "output_type": "stream",
     "text": [
      "More Republicans in Federal Government.docx: 15.4kB [00:03, 4.87kB/s]                   \n",
      "US - Visitor Visa.docx: 27.2kB [00:03, 9.11kB/s]                            \n",
      "Washington DC - Fun things to Visit.docx: 14.1kB [00:03, 3.69kB/s]                   \n"
     ]
    }
   ],
   "source": [
    "indexer_service = client.indexer_service\n",
    "document_service = client.document_service\n",
    "\n",
    "def load_documents(folder: str):\n",
    "    path = Path(folder)\n",
    "    for file_path in path.glob(\"*.docx\"):\n",
    "        logger.info(f\"Found [{file_path}]\")\n",
    "    \n",
    "        # Delete the document if it exists.\n",
    "        doc_list = document_service.list_documents(corpus_id, metadata_filter=f\"doc.id = '{file_path.name}'\")\n",
    "        if len(doc_list) > 0:\n",
    "            logger.info(f\"Found existing document with id [{file_path.name}]\")\n",
    "            indexer_service.delete(corpus_id, file_path.name)\n",
    "        \n",
    "        indexer_service.upload(corpus_id, file_path)\n",
    "        \n",
    "load_documents(\"resources\")"
   ],
   "metadata": {
    "collapsed": false,
    "ExecuteTime": {
     "end_time": "2024-05-01T04:25:31.409535700Z",
     "start_time": "2024-05-01T04:25:09.391488100Z"
    }
   },
   "id": "3449ecbb9cfc174a"
  }
 ],
 "metadata": {
  "kernelspec": {
   "display_name": "Python 3",
   "language": "python",
   "name": "python3"
  },
  "language_info": {
   "codemirror_mode": {
    "name": "ipython",
    "version": 2
   },
   "file_extension": ".py",
   "mimetype": "text/x-python",
   "name": "python",
   "nbconvert_exporter": "python",
   "pygments_lexer": "ipython2",
   "version": "2.7.6"
  }
 },
 "nbformat": 4,
 "nbformat_minor": 5
}
